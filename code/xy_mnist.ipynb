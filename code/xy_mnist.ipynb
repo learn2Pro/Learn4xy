{
 "cells": [
  {
   "cell_type": "code",
   "execution_count": 2,
   "metadata": {
    "collapsed": false
   },
   "outputs": [
    {
     "ename": "ImportError",
     "evalue": "No module named keras",
     "traceback": [
      "\u001b[0;31m---------------------------------------------------------------------------\u001b[0m",
      "\u001b[0;31mImportError\u001b[0m                               Traceback (most recent call last)",
      "\u001b[0;32m<ipython-input-2-e864ebcbe832>\u001b[0m in \u001b[0;36m<module>\u001b[0;34m()\u001b[0m\n\u001b[1;32m      6\u001b[0m \u001b[0mnp\u001b[0m\u001b[1;33m.\u001b[0m\u001b[0mrandom\u001b[0m\u001b[1;33m.\u001b[0m\u001b[0mseed\u001b[0m\u001b[1;33m(\u001b[0m\u001b[1;36m13\u001b[0m\u001b[1;33m)\u001b[0m\u001b[1;33m\u001b[0m\u001b[0m\n\u001b[1;32m      7\u001b[0m \u001b[1;33m\u001b[0m\u001b[0m\n\u001b[0;32m----> 8\u001b[0;31m \u001b[1;32mfrom\u001b[0m \u001b[0mkeras\u001b[0m \u001b[1;32mimport\u001b[0m \u001b[0mbackend\u001b[0m \u001b[1;32mas\u001b[0m \u001b[0mK\u001b[0m\u001b[1;33m\u001b[0m\u001b[0m\n\u001b[0m\u001b[1;32m      9\u001b[0m \u001b[1;32mfrom\u001b[0m \u001b[0mkeras\u001b[0m\u001b[1;33m.\u001b[0m\u001b[0mmodels\u001b[0m \u001b[1;32mimport\u001b[0m \u001b[0mSequential\u001b[0m\u001b[1;33m\u001b[0m\u001b[0m\n\u001b[1;32m     10\u001b[0m \u001b[1;32mfrom\u001b[0m \u001b[0mkeras\u001b[0m\u001b[1;33m.\u001b[0m\u001b[0mdatasets\u001b[0m \u001b[1;32mimport\u001b[0m \u001b[0mmnist\u001b[0m\u001b[1;33m\u001b[0m\u001b[0m\n",
      "\u001b[0;31mImportError\u001b[0m: No module named keras"
     ],
     "output_type": "error"
    }
   ],
   "source": [
    "from matplotlib import pyplot as plt\n",
    "% matplotlib inline\n",
    "\n",
    "import numpy as np\n",
    "\n",
    "np.random.seed(13)\n",
    "\n",
    "from keras import backend as K\n",
    "from keras.models import Sequential\n",
    "from keras.datasets import mnist\n",
    "from keras.layers import Dense, Activation, Flatten, Dropout, Conv2D, MaxPooling2D\n",
    "from keras.utils import np_utils\n",
    "from keras.layers.normalization import BatchNormalization\n",
    "import os\n",
    "from keras.utils import plot_model\n",
    "from keras.callbacks import EarlyStopping\n",
    "\n",
    "num_classes = 10\n",
    "input_unit_size = 28 * 28\n",
    "np_epochs = 20\n",
    "\n",
    "# 普通全连接 model\n",
    "# dense\n",
    "#   |\n",
    "#   V\n",
    "#  relu\n",
    "#   |\n",
    "#   V\n",
    "#  dense\n",
    "#   |\n",
    "#   V\n",
    "#  softmax\n",
    "denseModel = Sequential()\n",
    "denseModel.add(Dense(output_dim=128, input_dim=input_unit_size))\n",
    "denseModel.add(Activation(\"relu\"))\n",
    "# model.add(Conv2D())\n",
    "denseModel.add(Dense(output_dim=num_classes))\n",
    "denseModel.add(Activation(\"softmax\"))\n",
    "denseModel.compile(loss='categorical_crossentropy',\n",
    "                   optimizer='adam',\n",
    "                   metrics=['accuracy'])\n",
    "\n",
    "currentPath = os.path.abspath('.')\n",
    "(x_train, y_train), (x_test, y_test) = mnist.load_data(currentPath + \"/../data/mnist.npz\")\n",
    "\n",
    "\n",
    "plt.imshow(x_train[0], cmap='gray')\n",
    "plt.title('Class ' + str(y_train[0]))\n",
    "\n",
    "\n",
    "##归一化数据\n",
    "x_train = x_train.reshape(x_train.shape[0], input_unit_size)\n",
    "x_test = x_test.reshape(x_test.shape[0], input_unit_size)\n",
    "x_train = x_train.astype('float32')\n",
    "x_test = x_test.astype('float32')\n",
    "x_train /= 255\n",
    "x_test /= 255\n",
    "\n"
   ]
  },
  {
   "cell_type": "code",
   "execution_count": 7,
   "metadata": {
    "collapsed": false
   },
   "outputs": [
    {
     "name": "stdout",
     "output_type": "stream",
     "text": [
      "_________________________________________________________________\n",
      "Layer (type)                 Output Shape              Param #   \n",
      "=================================================================\n",
      "dense_5 (Dense)              (None, 128)               100480    \n",
      "_________________________________________________________________\n",
      "activation_5 (Activation)    (None, 128)               0         \n",
      "_________________________________________________________________\n",
      "dense_6 (Dense)              (None, 10)                1290      \n",
      "_________________________________________________________________\n",
      "activation_6 (Activation)    (None, 10)                0         \n",
      "=================================================================\n",
      "Total params: 101,770\n",
      "Trainable params: 101,770\n",
      "Non-trainable params: 0\n",
      "_________________________________________________________________\n"
     ]
    },
    {
     "name": "stderr",
     "output_type": "stream",
     "text": [
      "/Users/tang/anaconda3/lib/python3.6/site-packages/keras/models.py:981: UserWarning: The `nb_epoch` argument in `fit` has been renamed `epochs`.\n",
      "  warnings.warn('The `nb_epoch` argument in `fit` '\n"
     ]
    },
    {
     "name": "stdout",
     "output_type": "stream",
     "text": [
      "Train on 51000 samples, validate on 9000 samples\n",
      "Epoch 1/20\n",
      " - 2s - loss: 0.3170 - acc: 0.9127 - val_loss: 0.1695 - val_acc: 0.9513\n",
      "Epoch 2/20\n",
      " - 2s - loss: 0.1454 - acc: 0.9588 - val_loss: 0.1156 - val_acc: 0.9670\n",
      "Epoch 3/20\n",
      " - 2s - loss: 0.1007 - acc: 0.9712 - val_loss: 0.1093 - val_acc: 0.9680\n",
      "Epoch 4/20\n",
      " - 2s - loss: 0.0765 - acc: 0.9783 - val_loss: 0.0891 - val_acc: 0.9747\n",
      "Epoch 5/20\n",
      " - 2s - loss: 0.0596 - acc: 0.9824 - val_loss: 0.0788 - val_acc: 0.9772\n",
      "Epoch 6/20\n",
      " - 2s - loss: 0.0478 - acc: 0.9858 - val_loss: 0.0866 - val_acc: 0.9742\n",
      "Epoch 00006: early stopping\n",
      "10000/10000 [==============================] - 0s 15us/step\n",
      "eval accuracy is :0.9741\n"
     ]
    },
    {
     "data": {
      "image/png": "[encoded data removed]",
      "text/plain": [
       "<Figure size 432x288 with 1 Axes>"
      ]
     },
     "metadata": {},
     "output_type": "display_data"
    },
    {
     "data": {
      "text/plain": [
       "<matplotlib.legend.Legend at 0x1551fc5f8>"
      ]
     },
     "execution_count": 7,
     "metadata": {},
     "output_type": "execute_result"
    },
    {
     "data": {
      "image/png": "[encoded data removed]",
      "text/plain": [
       "<Figure size 432x288 with 1 Axes>"
      ]
     },
     "metadata": {},
     "output_type": "display_data"
    }
   ],
   "source": [
    "# one-hot representation\n",
    "y_train = np_utils.to_categorical(y_train, num_classes)\n",
    "y_test = np_utils.to_categorical(y_test, num_classes)\n",
    "\n",
    "# 打印模型结构\n",
    "denseModel.summary()\n",
    "\n",
    "denseResult = denseModel.fit(x_train, y_train,\n",
    "                             epochs=np_epochs, batch_size=64,\n",
    "                             verbose=2, validation_split=0.15,\n",
    "                             callbacks=[\n",
    "                                 EarlyStopping(monitor='val_loss',\n",
    "                                               patience=1, verbose=2,\n",
    "                                               mode='auto')])\n",
    "eval = denseModel.evaluate(x_test, y_test, batch_size=64)\n",
    "print(\"eval accuracy is :\"+str(eval[1]))\n",
    "print(\"eval accuracy is :\"+str(eval[1]))\n",
    "\n",
    "plot_model(denseModel, \"../data/denseModel.png\")\n",
    "### dense model graph\n",
    "x = range(len(denseResult.epoch))\n",
    "plt.plot(x, denseResult.history['acc'], label='train')\n",
    "plt.plot(x, denseResult.history['val_acc'], label='validation')\n",
    "plt.title('Accuracy')\n",
    "plt.legend(loc='center left', bbox_to_anchor=(1, 0.5))\n",
    "plt.show()\n",
    "\n",
    "plt.plot(x, denseResult.history['loss'], label='train')\n",
    "plt.plot(x, denseResult.history['val_loss'], label='validation')\n",
    "plt.title('Loss')\n",
    "plt.legend(loc='center left', bbox_to_anchor=(1, 0.5))\n"
   ]
  },
  {
   "cell_type": "code",
   "execution_count": 1,
   "metadata": {
    "collapsed": false
   },
   "outputs": [
    {
     "ename": "NameError",
     "evalue": "name 'mnist' is not defined",
     "traceback": [
      "\u001b[0;31m---------------------------------------------------------------------------\u001b[0m",
      "\u001b[0;31mNameError\u001b[0m                                 Traceback (most recent call last)",
      "\u001b[0;32m<ipython-input-1-0f97848a06be>\u001b[0m in \u001b[0;36m<module>\u001b[0;34m()\u001b[0m\n\u001b[0;32m----> 1\u001b[0;31m \u001b[1;33m(\u001b[0m\u001b[0mx_train\u001b[0m\u001b[1;33m,\u001b[0m \u001b[0my_train\u001b[0m\u001b[1;33m)\u001b[0m\u001b[1;33m,\u001b[0m \u001b[1;33m(\u001b[0m\u001b[0mx_test\u001b[0m\u001b[1;33m,\u001b[0m \u001b[0my_test\u001b[0m\u001b[1;33m)\u001b[0m \u001b[1;33m=\u001b[0m \u001b[0mmnist\u001b[0m\u001b[1;33m.\u001b[0m\u001b[0mload_data\u001b[0m\u001b[1;33m(\u001b[0m\u001b[0mcurrentPath\u001b[0m \u001b[1;33m+\u001b[0m \u001b[1;34m\"/../data/mnist.npz\"\u001b[0m\u001b[1;33m)\u001b[0m\u001b[1;33m\u001b[0m\u001b[0m\n\u001b[0m\u001b[1;32m      2\u001b[0m \u001b[1;33m\u001b[0m\u001b[0m\n\u001b[1;32m      3\u001b[0m \u001b[1;31m##归一化数据\u001b[0m\u001b[1;33m\u001b[0m\u001b[1;33m\u001b[0m\u001b[0m\n\u001b[1;32m      4\u001b[0m \u001b[0mx_train\u001b[0m \u001b[1;33m=\u001b[0m \u001b[0mx_train\u001b[0m\u001b[1;33m.\u001b[0m\u001b[0mreshape\u001b[0m\u001b[1;33m(\u001b[0m\u001b[0mx_train\u001b[0m\u001b[1;33m.\u001b[0m\u001b[0mshape\u001b[0m\u001b[1;33m[\u001b[0m\u001b[1;36m0\u001b[0m\u001b[1;33m]\u001b[0m\u001b[1;33m,\u001b[0m \u001b[1;36m28\u001b[0m\u001b[1;33m,\u001b[0m \u001b[1;36m28\u001b[0m\u001b[1;33m,\u001b[0m \u001b[1;36m1\u001b[0m\u001b[1;33m)\u001b[0m\u001b[1;33m\u001b[0m\u001b[0m\n\u001b[1;32m      5\u001b[0m \u001b[0mx_test\u001b[0m \u001b[1;33m=\u001b[0m \u001b[0mx_test\u001b[0m\u001b[1;33m.\u001b[0m\u001b[0mreshape\u001b[0m\u001b[1;33m(\u001b[0m\u001b[0mx_test\u001b[0m\u001b[1;33m.\u001b[0m\u001b[0mshape\u001b[0m\u001b[1;33m[\u001b[0m\u001b[1;36m0\u001b[0m\u001b[1;33m]\u001b[0m\u001b[1;33m,\u001b[0m \u001b[1;36m28\u001b[0m\u001b[1;33m,\u001b[0m \u001b[1;36m28\u001b[0m\u001b[1;33m,\u001b[0m \u001b[1;36m1\u001b[0m\u001b[1;33m)\u001b[0m\u001b[1;33m\u001b[0m\u001b[0m\n",
      "\u001b[0;31mNameError\u001b[0m: name 'mnist' is not defined"
     ],
     "output_type": "error"
    }
   ],
   "source": [
    "(x_train, y_train), (x_test, y_test) = mnist.load_data(currentPath + \"/../data/mnist.npz\")\n",
    "\n",
    "##归一化数据\n",
    "x_train = x_train.reshape(x_train.shape[0], 28, 28, 1)\n",
    "x_test = x_test.reshape(x_test.shape[0], 28, 28, 1)\n",
    "x_train = x_train.astype('float32')\n",
    "x_test = x_test.astype('float32')\n",
    "x_train /= 255\n",
    "x_test /= 255\n",
    "\n",
    "# one-hot representation\n",
    "y_train = np_utils.to_categorical(y_train, num_classes)\n",
    "y_test = np_utils.to_categorical(y_test, num_classes)\n",
    "#### cnn model \n",
    "# 28*28*1->28*28*64->14*14*64->7*7*256--->512-->dropOut->10\n",
    "# conv2D\n",
    "#   |\n",
    "#   V\n",
    "#  pool\n",
    "#   |\n",
    "#   V\n",
    "#  relu\n",
    "#   |\n",
    "#   V\n",
    "#  Dense\n",
    "#   |\n",
    "#   V\n",
    "#  softMax\n",
    "cnnModel = Sequential()\n",
    "cnnModel.add(Conv2D(128, (2, 2), input_shape=(28, 28, 1)))\n",
    "cnnModel.add(Activation(\"relu\"))\n",
    "cnnModel.add(MaxPooling2D(pool_size=(2, 2)))\n",
    "\n",
    "BatchNormalization(axis=-1)\n",
    "cnnModel.add(Conv2D(256, (2, 2)))\n",
    "cnnModel.add(Activation('relu'))\n",
    "BatchNormalization(axis=-1)\n",
    "cnnModel.add(Conv2D(512, (2, 2)))\n",
    "cnnModel.add(Activation('relu'))\n",
    "cnnModel.add(MaxPooling2D(pool_size=(2, 2)))\n",
    "\n",
    "# fully layer\n",
    "cnnModel.add(Flatten())\n",
    "\n",
    "cnnModel.add(Dense(512))\n",
    "# cnnModel.add(Dropout(0.1))\n",
    "cnnModel.add(Activation('relu'))\n",
    "BatchNormalization()\n",
    "cnnModel.add(Dense(num_classes))\n",
    "cnnModel.add(Activation(\"softmax\"))\n",
    "cnnModel.compile(loss='categorical_crossentropy',\n",
    "                 optimizer='adam',\n",
    "                 metrics=['accuracy'])\n",
    "\n",
    "# 打印模型结构\n",
    "cnnModel.summary()\n",
    "\n",
    "cnnResult = cnnModel.fit(x_train, y_train,\n",
    "                         epochs=np_epochs, batch_size=64,\n",
    "                         verbose=2, validation_split=0.2)\n",
    "\n",
    "plot_model(cnnModel, \"../data/cnnModel.png\")\n",
    "\n",
    "eval = cnnModel.evaluate(x_test, y_test, batch_size=64)\n",
    "print(\"eval accuracy is  :\" + str(eval[1]))\n",
    "\n",
    "### cnn model graph\n",
    "\n",
    "x = range(len(cnnResult.epoch))\n",
    "plt.plot(x, cnnResult.history['acc'], label='train')\n",
    "plt.plot(x, cnnResult.history['val_acc'], label='validation')\n",
    "plt.title('Accuracy')\n",
    "plt.legend(loc='center left', bbox_to_anchor=(1, 0.5))\n",
    "plt.show()\n",
    "\n",
    "plt.plot(x, cnnResult.history['loss'], label='train')\n",
    "plt.plot(x, cnnResult.history['val_loss'], label='validation')\n",
    "plt.title('Loss')\n",
    "plt.legend(loc='center left', bbox_to_anchor=(1, 0.5))\n"
   ]
  },
  {
   "cell_type": "code",
   "execution_count": null,
   "metadata": {
    "collapsed": true
   },
   "outputs": [],
   "source": []
  }
 ],
 "metadata": {
  "kernelspec": {
   "display_name": "Python 2",
   "language": "python",
   "name": "python2"
  },
  "language_info": {
   "codemirror_mode": {
    "name": "ipython",
    "version": 2
   },
   "file_extension": ".py",
   "mimetype": "text/x-python",
   "name": "python",
   "nbconvert_exporter": "python",
   "pygments_lexer": "ipython2",
   "version": "2.7.13"
  }
 },
 "nbformat": 4,
 "nbformat_minor": 1
}
