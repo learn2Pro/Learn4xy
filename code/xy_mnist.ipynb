{
 "cells": [
  {
   "cell_type": "code",
   "execution_count": 5,
   "metadata": {
    "collapsed": false
   },
   "outputs": [
    {
     "name": "stderr",
     "output_type": "stream",
     "text": [
      "/Users/tang/anaconda3/lib/python3.6/site-packages/ipykernel_launcher.py:31: UserWarning: Update your `Dense` call to the Keras 2 API: `Dense(input_dim=784, units=128)`\n/Users/tang/anaconda3/lib/python3.6/site-packages/ipykernel_launcher.py:34: UserWarning: Update your `Dense` call to the Keras 2 API: `Dense(units=10)`\n"
     ]
    },
    {
     "data": {
      "image/png": "[encoded data removed]",
      "text/plain": [
       "<matplotlib.figure.Figure at 0x10fbc1860>"
      ]
     },
     "metadata": {},
     "output_type": "display_data"
    }
   ],
   "source": [
    "from matplotlib import pyplot as plt\n",
    "% matplotlib inline\n",
    "\n",
    "import numpy as np\n",
    "\n",
    "np.random.seed(13)\n",
    "\n",
    "from keras import backend as K\n",
    "from keras.models import Sequential\n",
    "from keras.datasets import mnist\n",
    "from keras.layers import Dense, Activation, Flatten, Dropout, Conv2D, MaxPooling2D\n",
    "from keras.utils import np_utils\n",
    "from keras.layers.normalization import BatchNormalization\n",
    "import os\n",
    "\n",
    "num_classes = 10\n",
    "input_unit_size = 28 * 28\n",
    "\n",
    "# 普通全连接 model\n",
    "# dense\n",
    "#   |\n",
    "#   V\n",
    "#  relu\n",
    "#   |\n",
    "#   V\n",
    "#  dense\n",
    "#   |\n",
    "#   V\n",
    "#  softmax\n",
    "denseModel = Sequential()\n",
    "denseModel.add(Dense(output_dim=128, input_dim=input_unit_size))\n",
    "denseModel.add(Activation(\"relu\"))\n",
    "# model.add(Conv2D())\n",
    "denseModel.add(Dense(output_dim=num_classes))\n",
    "denseModel.add(Activation(\"softmax\"))\n",
    "denseModel.compile(loss='categorical_crossentropy',\n",
    "                   optimizer='adam',\n",
    "                   metrics=['accuracy'])\n",
    "\n",
    "currentPath = os.path.abspath('.')\n",
    "(x_train, y_train), (x_test, y_test) = mnist.load_data(currentPath + \"/data/mnist.npz\")\n",
    "\n",
    "\n",
    "plt.imshow(x_train[0], cmap='gray')\n",
    "plt.title('Class ' + str(y_train[0]))\n",
    "\n",
    "\n",
    "##归一化数据\n",
    "x_train = x_train.reshape(x_train.shape[0], input_unit_size)\n",
    "x_test = x_test.reshape(x_test.shape[0], input_unit_size)\n",
    "x_train = x_train.astype('float32')\n",
    "x_test = x_test.astype('float32')\n",
    "x_train /= 255\n",
    "x_test /= 255\n",
    "\n"
   ]
  },
  {
   "cell_type": "code",
   "execution_count": 6,
   "metadata": {},
   "outputs": [
    {
     "name": "stdout",
     "output_type": "stream",
     "text": [
      "_________________________________________________________________\nLayer (type)                 Output Shape              Param #   \n=================================================================\ndense_7 (Dense)              (None, 128)               100480    \n_________________________________________________________________\nactivation_7 (Activation)    (None, 128)               0         \n_________________________________________________________________\ndense_8 (Dense)              (None, 10)                1290      \n_________________________________________________________________\nactivation_8 (Activation)    (None, 10)                0         \n=================================================================\nTotal params: 101,770\nTrainable params: 101,770\nNon-trainable params: 0\n_________________________________________________________________\n"
     ]
    },
    {
     "name": "stderr",
     "output_type": "stream",
     "text": [
      "/Users/tang/anaconda3/lib/python3.6/site-packages/keras/models.py:981: UserWarning: The `nb_epoch` argument in `fit` has been renamed `epochs`.\n  warnings.warn('The `nb_epoch` argument in `fit` '\n"
     ]
    },
    {
     "name": "stdout",
     "output_type": "stream",
     "text": [
      "Train on 51000 samples, validate on 9000 samples\nEpoch 1/20\n"
     ]
    },
    {
     "name": "stdout",
     "output_type": "stream",
     "text": [
      " - 2s - loss: 0.3160 - acc: 0.9128 - val_loss: 0.1685 - val_acc: 0.9516\n"
     ]
    },
    {
     "name": "stdout",
     "output_type": "stream",
     "text": [
      "Epoch 2/20\n"
     ]
    },
    {
     "name": "stdout",
     "output_type": "stream",
     "text": [
      " - 2s - loss: 0.1453 - acc: 0.9585 - val_loss: 0.1146 - val_acc: 0.9679\n"
     ]
    },
    {
     "name": "stdout",
     "output_type": "stream",
     "text": [
      "Epoch 3/20\n"
     ]
    },
    {
     "name": "stdout",
     "output_type": "stream",
     "text": [
      " - 2s - loss: 0.1010 - acc: 0.9709 - val_loss: 0.1112 - val_acc: 0.9677\n"
     ]
    },
    {
     "name": "stdout",
     "output_type": "stream",
     "text": [
      "Epoch 4/20\n"
     ]
    },
    {
     "name": "stdout",
     "output_type": "stream",
     "text": [
      " - 2s - loss: 0.0766 - acc: 0.9783 - val_loss: 0.0887 - val_acc: 0.9748\n"
     ]
    },
    {
     "name": "stdout",
     "output_type": "stream",
     "text": [
      "Epoch 5/20\n"
     ]
    },
    {
     "name": "stdout",
     "output_type": "stream",
     "text": [
      " - 2s - loss: 0.0597 - acc: 0.9825 - val_loss: 0.0786 - val_acc: 0.9766\n"
     ]
    },
    {
     "name": "stdout",
     "output_type": "stream",
     "text": [
      "Epoch 6/20\n"
     ]
    },
    {
     "name": "stdout",
     "output_type": "stream",
     "text": [
      " - 2s - loss: 0.0480 - acc: 0.9860 - val_loss: 0.0857 - val_acc: 0.9751\n"
     ]
    },
    {
     "name": "stdout",
     "output_type": "stream",
     "text": [
      "Epoch 7/20\n"
     ]
    },
    {
     "name": "stdout",
     "output_type": "stream",
     "text": [
      " - 2s - loss: 0.0383 - acc: 0.9890 - val_loss: 0.0744 - val_acc: 0.9786\n"
     ]
    },
    {
     "name": "stdout",
     "output_type": "stream",
     "text": [
      "Epoch 8/20\n"
     ]
    },
    {
     "name": "stdout",
     "output_type": "stream",
     "text": [
      " - 2s - loss: 0.0302 - acc: 0.9917 - val_loss: 0.0765 - val_acc: 0.9784\n"
     ]
    },
    {
     "name": "stdout",
     "output_type": "stream",
     "text": [
      "Epoch 9/20\n"
     ]
    },
    {
     "name": "stdout",
     "output_type": "stream",
     "text": [
      " - 2s - loss: 0.0254 - acc: 0.9931 - val_loss: 0.0759 - val_acc: 0.9782\n"
     ]
    },
    {
     "name": "stdout",
     "output_type": "stream",
     "text": [
      "Epoch 10/20\n"
     ]
    },
    {
     "name": "stdout",
     "output_type": "stream",
     "text": [
      " - 2s - loss: 0.0202 - acc: 0.9946 - val_loss: 0.0810 - val_acc: 0.9769\n"
     ]
    },
    {
     "name": "stdout",
     "output_type": "stream",
     "text": [
      "Epoch 11/20\n"
     ]
    },
    {
     "name": "stdout",
     "output_type": "stream",
     "text": [
      " - 2s - loss: 0.0169 - acc: 0.9956 - val_loss: 0.0841 - val_acc: 0.9776\n"
     ]
    },
    {
     "name": "stdout",
     "output_type": "stream",
     "text": [
      "Epoch 12/20\n"
     ]
    },
    {
     "name": "stdout",
     "output_type": "stream",
     "text": [
      " - 2s - loss: 0.0146 - acc: 0.9961 - val_loss: 0.0758 - val_acc: 0.9794\n"
     ]
    },
    {
     "name": "stdout",
     "output_type": "stream",
     "text": [
      "Epoch 13/20\n"
     ]
    },
    {
     "name": "stdout",
     "output_type": "stream",
     "text": [
      " - 2s - loss: 0.0118 - acc: 0.9971 - val_loss: 0.0857 - val_acc: 0.9787\n"
     ]
    },
    {
     "name": "stdout",
     "output_type": "stream",
     "text": [
      "Epoch 14/20\n"
     ]
    },
    {
     "name": "stdout",
     "output_type": "stream",
     "text": [
      " - 2s - loss: 0.0103 - acc: 0.9976 - val_loss: 0.0797 - val_acc: 0.9783\n"
     ]
    },
    {
     "name": "stdout",
     "output_type": "stream",
     "text": [
      "Epoch 15/20\n"
     ]
    },
    {
     "name": "stdout",
     "output_type": "stream",
     "text": [
      " - 2s - loss: 0.0085 - acc: 0.9980 - val_loss: 0.0919 - val_acc: 0.9763\n"
     ]
    },
    {
     "name": "stdout",
     "output_type": "stream",
     "text": [
      "Epoch 16/20\n"
     ]
    },
    {
     "name": "stdout",
     "output_type": "stream",
     "text": [
      " - 2s - loss: 0.0078 - acc: 0.9980 - val_loss: 0.0875 - val_acc: 0.9788\n"
     ]
    },
    {
     "name": "stdout",
     "output_type": "stream",
     "text": [
      "Epoch 17/20\n"
     ]
    },
    {
     "name": "stdout",
     "output_type": "stream",
     "text": [
      " - 2s - loss: 0.0087 - acc: 0.9976 - val_loss: 0.0829 - val_acc: 0.9796\n"
     ]
    },
    {
     "name": "stdout",
     "output_type": "stream",
     "text": [
      "Epoch 18/20\n"
     ]
    },
    {
     "name": "stdout",
     "output_type": "stream",
     "text": [
      " - 2s - loss: 0.0051 - acc: 0.9988 - val_loss: 0.0889 - val_acc: 0.9791\n"
     ]
    },
    {
     "name": "stdout",
     "output_type": "stream",
     "text": [
      "Epoch 19/20\n"
     ]
    },
    {
     "name": "stdout",
     "output_type": "stream",
     "text": [
      " - 2s - loss: 0.0039 - acc: 0.9993 - val_loss: 0.0958 - val_acc: 0.9776\n"
     ]
    },
    {
     "name": "stdout",
     "output_type": "stream",
     "text": [
      "Epoch 20/20\n"
     ]
    },
    {
     "name": "stdout",
     "output_type": "stream",
     "text": [
      " - 2s - loss: 0.0071 - acc: 0.9981 - val_loss: 0.0940 - val_acc: 0.9796\n"
     ]
    },
    {
     "data": {
      "image/png": "[encoded data removed]",
      "text/plain": [
       "<matplotlib.figure.Figure at 0x1101134e0>"
      ]
     },
     "metadata": {},
     "output_type": "display_data"
    },
    {
     "data": {
      "text/plain": [
       "<matplotlib.legend.Legend at 0x1103d0be0>"
      ]
     },
     "execution_count": 6,
     "metadata": {},
     "output_type": "execute_result"
    },
    {
     "data": {
      "image/png": "[encoded data removed]",
      "text/plain": [
       "<matplotlib.figure.Figure at 0x1101f0780>"
      ]
     },
     "metadata": {},
     "output_type": "display_data"
    }
   ],
   "source": [
    "# one-hot representation\n",
    "y_train = np_utils.to_categorical(y_train, num_classes)\n",
    "y_test = np_utils.to_categorical(y_test, num_classes)\n",
    "\n",
    "# 打印模型结构\n",
    "denseModel.summary()\n",
    "\n",
    "denseResult = denseModel.fit(x_train, y_train,\n",
    "                             nb_epoch=20, batch_size=64,\n",
    "                             verbose=2, validation_split=0.15)\n",
    "\n",
    "### dense model graph\n",
    "x = range(20)\n",
    "plt.plot(x, denseResult.history['acc'], label='train')\n",
    "plt.plot(x, denseResult.history['val_acc'], label='validation')\n",
    "plt.title('Accuracy')\n",
    "plt.legend(loc='center left', bbox_to_anchor=(1, 0.5))\n",
    "plt.show()\n",
    "\n",
    "plt.plot(x, denseResult.history['loss'], label='train')\n",
    "plt.plot(x, denseResult.history['val_loss'], label='validation')\n",
    "plt.title('Loss')\n",
    "plt.legend(loc='center left', bbox_to_anchor=(1, 0.5))"
   ]
  },
  {
   "cell_type": "code",
   "execution_count": 16,
   "metadata": {
    "collapsed": false
   },
   "outputs": [
    {
     "name": "stdout",
     "output_type": "stream",
     "text": [
      "_________________________________________________________________\nLayer (type)                 Output Shape              Param #   \n=================================================================\nconv2d_11 (Conv2D)           (None, 27, 27, 32)        160       \n_________________________________________________________________\nactivation_16 (Activation)   (None, 27, 27, 32)        0         \n_________________________________________________________________\nconv2d_12 (Conv2D)           (None, 26, 26, 64)        8256      \n_________________________________________________________________\nactivation_17 (Activation)   (None, 26, 26, 64)        0         \n_________________________________________________________________\nmax_pooling2d_3 (MaxPooling2 (None, 13, 13, 64)        0         \n_________________________________________________________________\nconv2d_13 (Conv2D)           (None, 12, 12, 128)       32896     \n_________________________________________________________________\nactivation_18 (Activation)   (None, 12, 12, 128)       0         \n_________________________________________________________________\nconv2d_14 (Conv2D)           (None, 11, 11, 256)       131328    \n_________________________________________________________________\nactivation_19 (Activation)   (None, 11, 11, 256)       0         \n_________________________________________________________________\nmax_pooling2d_4 (MaxPooling2 (None, 5, 5, 256)         0         \n_________________________________________________________________\nflatten_2 (Flatten)          (None, 6400)              0         \n_________________________________________________________________\ndense_11 (Dense)             (None, 512)               3277312   \n_________________________________________________________________\ndropout_2 (Dropout)          (None, 512)               0         \n_________________________________________________________________\nactivation_20 (Activation)   (None, 512)               0         \n_________________________________________________________________\ndense_12 (Dense)             (None, 10)                5130      \n_________________________________________________________________\nactivation_21 (Activation)   (None, 10)                0         \n=================================================================\nTotal params: 3,455,082\nTrainable params: 3,455,082\nNon-trainable params: 0\n_________________________________________________________________\n"
     ]
    },
    {
     "name": "stderr",
     "output_type": "stream",
     "text": [
      "/Users/tang/anaconda3/lib/python3.6/site-packages/keras/models.py:981: UserWarning: The `nb_epoch` argument in `fit` has been renamed `epochs`.\n  warnings.warn('The `nb_epoch` argument in `fit` '\n"
     ]
    },
    {
     "name": "stdout",
     "output_type": "stream",
     "text": [
      "Train on 51000 samples, validate on 9000 samples\nEpoch 1/10\n"
     ]
    }
   ],
   "source": [
    "(x_train, y_train), (x_test, y_test) = mnist.load_data(currentPath + \"/data/mnist.npz\")\n",
    "\n",
    "##归一化数据\n",
    "x_train = x_train.reshape(x_train.shape[0], 28, 28, 1)\n",
    "x_test = x_test.reshape(x_test.shape[0], 28, 28, 1)\n",
    "x_train = x_train.astype('float32')\n",
    "x_test = x_test.astype('float32')\n",
    "x_train /= 255\n",
    "x_test /= 255\n",
    "\n",
    "# one-hot representation\n",
    "y_train = np_utils.to_categorical(y_train, num_classes)\n",
    "y_test = np_utils.to_categorical(y_test, num_classes)\n",
    "#### cnn model \n",
    "# conv2D\n",
    "#   |\n",
    "#   V\n",
    "#  pool\n",
    "#   |\n",
    "#   V\n",
    "#  relu\n",
    "#   |\n",
    "#   V\n",
    "#  Dense\n",
    "#   |\n",
    "#   V\n",
    "#  softMax\n",
    "cnnModel = Sequential()\n",
    "cnnModel.add(Conv2D(32, (2, 2), input_shape=(28, 28, 1)))\n",
    "cnnModel.add(Activation(\"relu\"))\n",
    "cnnModel.add(Conv2D(64, (2, 2)))\n",
    "cnnModel.add(Activation('relu'))\n",
    "cnnModel.add(MaxPooling2D(pool_size=(2, 2)))\n",
    "\n",
    "# BatchNormalization(axis=-1)\n",
    "cnnModel.add(Conv2D(128, (2, 2)))\n",
    "cnnModel.add(Activation('relu'))\n",
    "# BatchNormalization(axis=-1)\n",
    "cnnModel.add(Conv2D(256, (2, 2)))\n",
    "cnnModel.add(Activation('relu'))\n",
    "cnnModel.add(MaxPooling2D(pool_size=(2, 2)))\n",
    "\n",
    "# fully layer\n",
    "cnnModel.add(Flatten())\n",
    "\n",
    "cnnModel.add(Dense(512))\n",
    "cnnModel.add(Dropout(0.1))\n",
    "cnnModel.add(Activation('relu'))\n",
    "# BatchNormalization()\n",
    "cnnModel.add(Dense(num_classes))\n",
    "cnnModel.add(Activation(\"softmax\"))\n",
    "cnnModel.compile(loss='categorical_crossentropy',\n",
    "                 optimizer='adam',\n",
    "                 metrics=['accuracy'])\n",
    "\n",
    "# 打印模型结构\n",
    "cnnModel.summary()\n",
    "\n",
    "cnnResult = cnnModel.fit(x_train, y_train,\n",
    "                         nb_epoch=10, batch_size=64,\n",
    "                         verbose=2, validation_split=0.15)\n",
    "\n",
    "### cnn model graph\n",
    "\n",
    "x = range(20)\n",
    "plt.plot(x, cnnResult.history['acc'], label='train')\n",
    "plt.plot(x, cnnResult.history['val_acc'], label='validation')\n",
    "plt.title('Accuracy')\n",
    "plt.legend(loc='center left', bbox_to_anchor=(1, 0.5))\n",
    "plt.show()\n",
    "\n",
    "plt.plot(x, cnnResult.history['loss'], label='train')\n",
    "plt.plot(x, cnnResult.history['val_loss'], label='validation')\n",
    "plt.title('Loss')\n",
    "plt.legend(loc='center left', bbox_to_anchor=(1, 0.5))\n"
   ]
  },
  {
   "cell_type": "code",
   "execution_count": null,
   "metadata": {},
   "outputs": [],
   "source": []
  }
 ],
 "metadata": {
  "kernelspec": {
   "display_name": "Python 3",
   "language": "python",
   "name": "python3"
  },
  "language_info": {
   "codemirror_mode": {
    "name": "ipython",
    "version": 3
   },
   "file_extension": ".py",
   "mimetype": "text/x-python",
   "name": "python",
   "nbconvert_exporter": "python",
   "pygments_lexer": "ipython3",
   "version": "3.6.3"
  }
 },
 "nbformat": 4,
 "nbformat_minor": 1
}
