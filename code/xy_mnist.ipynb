{
 "cells": [
  {
   "cell_type": "code",
   "execution_count": 16,
   "metadata": {
    "collapsed": false
   },
   "outputs": [
    {
     "name": "stderr",
     "output_type": "stream",
     "text": [
      "/Users/tang/anaconda3/lib/python3.6/site-packages/ipykernel_launcher.py:34: UserWarning: Update your `Dense` call to the Keras 2 API: `Dense(input_dim=784, units=128)`\n/Users/tang/anaconda3/lib/python3.6/site-packages/ipykernel_launcher.py:37: UserWarning: Update your `Dense` call to the Keras 2 API: `Dense(units=10)`\n"
     ]
    },
    {
     "data": {
      "image/png": "[encoded data removed]",
      "text/plain": [
       "<matplotlib.figure.Figure at 0x181a9dbf28>"
      ]
     },
     "metadata": {},
     "output_type": "display_data"
    }
   ],
   "source": [
    "from matplotlib import pyplot as plt\n",
    "% matplotlib inline\n",
    "\n",
    "import numpy as np\n",
    "\n",
    "np.random.seed(13)\n",
    "\n",
    "from keras import backend as K\n",
    "from keras.models import Sequential\n",
    "from keras.datasets import mnist\n",
    "from keras.layers import Dense, Activation, Flatten, Dropout, Conv2D, MaxPooling2D\n",
    "from keras.utils import np_utils\n",
    "from keras.layers.normalization import BatchNormalization\n",
    "import os\n",
    "from keras.utils import plot_model\n",
    "from keras.callbacks import EarlyStopping\n",
    "\n",
    "num_classes = 10\n",
    "input_unit_size = 28 * 28\n",
    "np_epochs = 20\n",
    "\n",
    "# 普通全连接 model\n",
    "# dense\n",
    "#   |\n",
    "#   V\n",
    "#  relu\n",
    "#   |\n",
    "#   V\n",
    "#  dense\n",
    "#   |\n",
    "#   V\n",
    "#  softmax\n",
    "denseModel = Sequential()\n",
    "denseModel.add(Dense(output_dim=128, input_dim=input_unit_size))\n",
    "denseModel.add(Activation(\"relu\"))\n",
    "# model.add(Conv2D())\n",
    "denseModel.add(Dense(output_dim=num_classes))\n",
    "denseModel.add(Activation(\"softmax\"))\n",
    "denseModel.compile(loss='categorical_crossentropy',\n",
    "                   optimizer='adam',\n",
    "                   metrics=['accuracy'])\n",
    "\n",
    "currentPath = os.path.abspath('.')\n",
    "(x_train, y_train), (x_test, y_test) = mnist.load_data(currentPath + \"/data/mnist.npz\")\n",
    "\n",
    "\n",
    "plt.imshow(x_train[0], cmap='gray')\n",
    "plt.title('Class ' + str(y_train[0]))\n",
    "\n",
    "\n",
    "##归一化数据\n",
    "x_train = x_train.reshape(x_train.shape[0], input_unit_size)\n",
    "x_test = x_test.reshape(x_test.shape[0], input_unit_size)\n",
    "x_train = x_train.astype('float32')\n",
    "x_test = x_test.astype('float32')\n",
    "x_train /= 255\n",
    "x_test /= 255\n",
    "\n"
   ]
  },
  {
   "cell_type": "code",
   "execution_count": 17,
   "metadata": {
    "collapsed": false
   },
   "outputs": [
    {
     "name": "stdout",
     "output_type": "stream",
     "text": [
      "_________________________________________________________________\nLayer (type)                 Output Shape              Param #   \n=================================================================\ndense_13 (Dense)             (None, 128)               100480    \n_________________________________________________________________\nactivation_13 (Activation)   (None, 128)               0         \n_________________________________________________________________\ndense_14 (Dense)             (None, 10)                1290      \n_________________________________________________________________\nactivation_14 (Activation)   (None, 10)                0         \n=================================================================\nTotal params: 101,770\nTrainable params: 101,770\nNon-trainable params: 0\n_________________________________________________________________\n"
     ]
    },
    {
     "name": "stderr",
     "output_type": "stream",
     "text": [
      "/Users/tang/anaconda3/lib/python3.6/site-packages/keras/models.py:981: UserWarning: The `nb_epoch` argument in `fit` has been renamed `epochs`.\n  warnings.warn('The `nb_epoch` argument in `fit` '\n"
     ]
    },
    {
     "name": "stdout",
     "output_type": "stream",
     "text": [
      "Train on 51000 samples, validate on 9000 samples\nEpoch 1/20\n"
     ]
    },
    {
     "name": "stdout",
     "output_type": "stream",
     "text": [
      " - 3s - loss: 0.3160 - acc: 0.9130 - val_loss: 0.1696 - val_acc: 0.9512\n"
     ]
    },
    {
     "name": "stdout",
     "output_type": "stream",
     "text": [
      "Epoch 2/20\n"
     ]
    },
    {
     "name": "stdout",
     "output_type": "stream",
     "text": [
      " - 2s - loss: 0.1454 - acc: 0.9586 - val_loss: 0.1145 - val_acc: 0.9676\n"
     ]
    },
    {
     "name": "stdout",
     "output_type": "stream",
     "text": [
      "Epoch 3/20\n"
     ]
    },
    {
     "name": "stdout",
     "output_type": "stream",
     "text": [
      " - 2s - loss: 0.1010 - acc: 0.9708 - val_loss: 0.1084 - val_acc: 0.9687\n"
     ]
    },
    {
     "name": "stdout",
     "output_type": "stream",
     "text": [
      "Epoch 4/20\n"
     ]
    },
    {
     "name": "stdout",
     "output_type": "stream",
     "text": [
      " - 2s - loss: 0.0766 - acc: 0.9783 - val_loss: 0.0875 - val_acc: 0.9750\n"
     ]
    },
    {
     "name": "stdout",
     "output_type": "stream",
     "text": [
      "Epoch 5/20\n"
     ]
    },
    {
     "name": "stdout",
     "output_type": "stream",
     "text": [
      " - 2s - loss: 0.0597 - acc: 0.9830 - val_loss: 0.0779 - val_acc: 0.9766\n"
     ]
    },
    {
     "name": "stdout",
     "output_type": "stream",
     "text": [
      "Epoch 6/20\n"
     ]
    },
    {
     "name": "stdout",
     "output_type": "stream",
     "text": [
      " - 2s - loss: 0.0480 - acc: 0.9861 - val_loss: 0.0850 - val_acc: 0.9750\n"
     ]
    },
    {
     "name": "stdout",
     "output_type": "stream",
     "text": [
      "Epoch 00006: early stopping\n"
     ]
    },
    {
     "data": {
      "image/png": "[encoded data removed]",
      "text/plain": [
       "<matplotlib.figure.Figure at 0x181ff11e48>"
      ]
     },
     "metadata": {},
     "output_type": "display_data"
    },
    {
     "data": {
      "text/plain": [
       "<matplotlib.legend.Legend at 0x1823c4d048>"
      ]
     },
     "execution_count": 17,
     "metadata": {},
     "output_type": "execute_result"
    },
    {
     "data": {
      "image/png": "[encoded data removed]",
      "text/plain": [
       "<matplotlib.figure.Figure at 0x181fec2908>"
      ]
     },
     "metadata": {},
     "output_type": "display_data"
    }
   ],
   "source": [
    "# one-hot representation\n",
    "y_train = np_utils.to_categorical(y_train, num_classes)\n",
    "y_test = np_utils.to_categorical(y_test, num_classes)\n",
    "\n",
    "# 打印模型结构\n",
    "denseModel.summary()\n",
    "\n",
    "denseResult = denseModel.fit(x_train, y_train,\n",
    "                             nb_epoch=np_epochs, batch_size=64,\n",
    "                             verbose=2, validation_split=0.15,\n",
    "                             callbacks=[\n",
    "                                 EarlyStopping(monitor='val_loss',\n",
    "                                               patience=1, verbose=2,\n",
    "                                               mode='auto')])\n",
    "\n",
    "plot_model(denseModel, \"data/denseModel.png\")\n",
    "### dense model graph\n",
    "x = range(len(denseResult.epoch))\n",
    "plt.plot(x, denseResult.history['acc'], label='train')\n",
    "plt.plot(x, denseResult.history['val_acc'], label='validation')\n",
    "plt.title('Accuracy')\n",
    "plt.legend(loc='center left', bbox_to_anchor=(1, 0.5))\n",
    "plt.show()\n",
    "\n",
    "plt.plot(x, denseResult.history['loss'], label='train')\n",
    "plt.plot(x, denseResult.history['val_loss'], label='validation')\n",
    "plt.title('Loss')\n",
    "plt.legend(loc='center left', bbox_to_anchor=(1, 0.5))\n"
   ]
  },
  {
   "cell_type": "code",
   "execution_count": 21,
   "metadata": {
    "collapsed": false
   },
   "outputs": [
    {
     "name": "stdout",
     "output_type": "stream",
     "text": [
      "_________________________________________________________________\nLayer (type)                 Output Shape              Param #   \n=================================================================\nconv2d_10 (Conv2D)           (None, 27, 27, 64)        320       \n_________________________________________________________________\nactivation_30 (Activation)   (None, 27, 27, 64)        0         \n_________________________________________________________________\nmax_pooling2d_7 (MaxPooling2 (None, 13, 13, 64)        0         \n_________________________________________________________________\nconv2d_11 (Conv2D)           (None, 12, 12, 128)       32896     \n_________________________________________________________________\nactivation_31 (Activation)   (None, 12, 12, 128)       0         \n_________________________________________________________________\nconv2d_12 (Conv2D)           (None, 11, 11, 256)       131328    \n_________________________________________________________________\nactivation_32 (Activation)   (None, 11, 11, 256)       0         \n_________________________________________________________________\nmax_pooling2d_8 (MaxPooling2 (None, 5, 5, 256)         0         \n_________________________________________________________________\nflatten_4 (Flatten)          (None, 6400)              0         \n_________________________________________________________________\ndense_21 (Dense)             (None, 512)               3277312   \n_________________________________________________________________\nactivation_33 (Activation)   (None, 512)               0         \n_________________________________________________________________\ndense_22 (Dense)             (None, 10)                5130      \n_________________________________________________________________\nactivation_34 (Activation)   (None, 10)                0         \n=================================================================\nTotal params: 3,446,986\nTrainable params: 3,446,986\nNon-trainable params: 0\n_________________________________________________________________\n"
     ]
    },
    {
     "name": "stderr",
     "output_type": "stream",
     "text": [
      "/Users/tang/anaconda3/lib/python3.6/site-packages/keras/models.py:981: UserWarning: The `nb_epoch` argument in `fit` has been renamed `epochs`.\n  warnings.warn('The `nb_epoch` argument in `fit` '\n"
     ]
    },
    {
     "name": "stdout",
     "output_type": "stream",
     "text": [
      "Train on 48000 samples, validate on 12000 samples\nEpoch 1/20\n"
     ]
    },
    {
     "name": "stdout",
     "output_type": "stream",
     "text": [
      " - 132s - loss: 0.1314 - acc: 0.9593 - val_loss: 0.0639 - val_acc: 0.9809\n"
     ]
    },
    {
     "name": "stdout",
     "output_type": "stream",
     "text": [
      "Epoch 2/20\n"
     ]
    },
    {
     "name": "stdout",
     "output_type": "stream",
     "text": [
      " - 133s - loss: 0.0415 - acc: 0.9865 - val_loss: 0.0402 - val_acc: 0.9882\n"
     ]
    },
    {
     "name": "stdout",
     "output_type": "stream",
     "text": [
      "Epoch 3/20\n"
     ]
    },
    {
     "name": "stdout",
     "output_type": "stream",
     "text": [
      " - 129s - loss: 0.0262 - acc: 0.9919 - val_loss: 0.0353 - val_acc: 0.9895\n"
     ]
    },
    {
     "name": "stdout",
     "output_type": "stream",
     "text": [
      "Epoch 4/20\n"
     ]
    },
    {
     "name": "stdout",
     "output_type": "stream",
     "text": [
      " - 125s - loss: 0.0186 - acc: 0.9937 - val_loss: 0.0409 - val_acc: 0.9904\n"
     ]
    },
    {
     "name": "stdout",
     "output_type": "stream",
     "text": [
      "Epoch 5/20\n"
     ]
    },
    {
     "name": "stdout",
     "output_type": "stream",
     "text": [
      " - 173s - loss: 0.0146 - acc: 0.9953 - val_loss: 0.0466 - val_acc: 0.9880\n"
     ]
    },
    {
     "name": "stdout",
     "output_type": "stream",
     "text": [
      "Epoch 6/20\n"
     ]
    },
    {
     "name": "stdout",
     "output_type": "stream",
     "text": [
      " - 183s - loss: 0.0118 - acc: 0.9959 - val_loss: 0.0423 - val_acc: 0.9885\n"
     ]
    },
    {
     "name": "stdout",
     "output_type": "stream",
     "text": [
      "Epoch 7/20\n"
     ]
    },
    {
     "name": "stdout",
     "output_type": "stream",
     "text": [
      " - 185s - loss: 0.0103 - acc: 0.9966 - val_loss: 0.0480 - val_acc: 0.9892\n"
     ]
    },
    {
     "name": "stdout",
     "output_type": "stream",
     "text": [
      "Epoch 8/20\n"
     ]
    },
    {
     "name": "stdout",
     "output_type": "stream",
     "text": [
      " - 140s - loss: 0.0075 - acc: 0.9976 - val_loss: 0.0408 - val_acc: 0.9912\n"
     ]
    },
    {
     "name": "stdout",
     "output_type": "stream",
     "text": [
      "Epoch 9/20\n"
     ]
    },
    {
     "name": "stdout",
     "output_type": "stream",
     "text": [
      " - 143s - loss: 0.0081 - acc: 0.9974 - val_loss: 0.0427 - val_acc: 0.9922\n"
     ]
    },
    {
     "name": "stdout",
     "output_type": "stream",
     "text": [
      "Epoch 10/20\n"
     ]
    },
    {
     "name": "stdout",
     "output_type": "stream",
     "text": [
      " - 117s - loss: 0.0051 - acc: 0.9984 - val_loss: 0.0461 - val_acc: 0.9911\n"
     ]
    },
    {
     "name": "stdout",
     "output_type": "stream",
     "text": [
      "Epoch 11/20\n"
     ]
    },
    {
     "name": "stdout",
     "output_type": "stream",
     "text": [
      " - 119s - loss: 0.0088 - acc: 0.9972 - val_loss: 0.0473 - val_acc: 0.9907\n"
     ]
    },
    {
     "name": "stdout",
     "output_type": "stream",
     "text": [
      "Epoch 12/20\n"
     ]
    },
    {
     "name": "stdout",
     "output_type": "stream",
     "text": [
      " - 113s - loss: 0.0046 - acc: 0.9987 - val_loss: 0.0496 - val_acc: 0.9900\n"
     ]
    },
    {
     "name": "stdout",
     "output_type": "stream",
     "text": [
      "Epoch 13/20\n"
     ]
    },
    {
     "name": "stdout",
     "output_type": "stream",
     "text": [
      " - 140s - loss: 0.0048 - acc: 0.9985 - val_loss: 0.0484 - val_acc: 0.9899\n"
     ]
    },
    {
     "name": "stdout",
     "output_type": "stream",
     "text": [
      "Epoch 14/20\n"
     ]
    },
    {
     "name": "stdout",
     "output_type": "stream",
     "text": [
      " - 180s - loss: 0.0019 - acc: 0.9994 - val_loss: 0.0760 - val_acc: 0.9850\n"
     ]
    },
    {
     "name": "stdout",
     "output_type": "stream",
     "text": [
      "Epoch 15/20\n"
     ]
    },
    {
     "name": "stdout",
     "output_type": "stream",
     "text": [
      " - 129s - loss: 0.0069 - acc: 0.9978 - val_loss: 0.0666 - val_acc: 0.9888\n"
     ]
    },
    {
     "name": "stdout",
     "output_type": "stream",
     "text": [
      "Epoch 16/20\n"
     ]
    },
    {
     "name": "stdout",
     "output_type": "stream",
     "text": [
      " - 123s - loss: 0.0053 - acc: 0.9984 - val_loss: 0.0506 - val_acc: 0.9912\n"
     ]
    },
    {
     "name": "stdout",
     "output_type": "stream",
     "text": [
      "Epoch 17/20\n"
     ]
    },
    {
     "name": "stdout",
     "output_type": "stream",
     "text": [
      " - 124s - loss: 0.0019 - acc: 0.9994 - val_loss: 0.0511 - val_acc: 0.9922\n"
     ]
    },
    {
     "name": "stdout",
     "output_type": "stream",
     "text": [
      "Epoch 18/20\n"
     ]
    },
    {
     "name": "stdout",
     "output_type": "stream",
     "text": [
      " - 121s - loss: 0.0061 - acc: 0.9982 - val_loss: 0.0463 - val_acc: 0.9911\n"
     ]
    },
    {
     "name": "stdout",
     "output_type": "stream",
     "text": [
      "Epoch 19/20\n"
     ]
    },
    {
     "name": "stdout",
     "output_type": "stream",
     "text": [
      " - 131s - loss: 0.0022 - acc: 0.9992 - val_loss: 0.0647 - val_acc: 0.9882\n"
     ]
    },
    {
     "name": "stdout",
     "output_type": "stream",
     "text": [
      "Epoch 20/20\n"
     ]
    }
   ],
   "source": [
    "(x_train, y_train), (x_test, y_test) = mnist.load_data(currentPath + \"/data/mnist.npz\")\n",
    "\n",
    "##归一化数据\n",
    "x_train = x_train.reshape(x_train.shape[0], 28, 28, 1)\n",
    "x_test = x_test.reshape(x_test.shape[0], 28, 28, 1)\n",
    "x_train = x_train.astype('float32')\n",
    "x_test = x_test.astype('float32')\n",
    "x_train /= 255\n",
    "x_test /= 255\n",
    "\n",
    "# one-hot representation\n",
    "y_train = np_utils.to_categorical(y_train, num_classes)\n",
    "y_test = np_utils.to_categorical(y_test, num_classes)\n",
    "#### cnn model \n",
    "# 28*28*1->28*28*64->14*14*64->7*7*256--->512-->dropOut->10\n",
    "# conv2D\n",
    "#   |\n",
    "#   V\n",
    "#  pool\n",
    "#   |\n",
    "#   V\n",
    "#  relu\n",
    "#   |\n",
    "#   V\n",
    "#  Dense\n",
    "#   |\n",
    "#   V\n",
    "#  softMax\n",
    "cnnModel = Sequential()\n",
    "cnnModel.add(Conv2D(64, (2, 2), input_shape=(28, 28, 1)))\n",
    "cnnModel.add(Activation(\"relu\"))\n",
    "cnnModel.add(MaxPooling2D(pool_size=(2, 2)))\n",
    "\n",
    "BatchNormalization(axis=-1)\n",
    "cnnModel.add(Conv2D(128, (2, 2)))\n",
    "cnnModel.add(Activation('relu'))\n",
    "BatchNormalization(axis=-1)\n",
    "cnnModel.add(Conv2D(256, (2, 2)))\n",
    "cnnModel.add(Activation('relu'))\n",
    "cnnModel.add(MaxPooling2D(pool_size=(2, 2)))\n",
    "\n",
    "# fully layer\n",
    "cnnModel.add(Flatten())\n",
    "\n",
    "cnnModel.add(Dense(512))\n",
    "# cnnModel.add(Dropout(0.1))\n",
    "cnnModel.add(Activation('relu'))\n",
    "BatchNormalization()\n",
    "cnnModel.add(Dense(num_classes))\n",
    "cnnModel.add(Activation(\"softmax\"))\n",
    "cnnModel.compile(loss='categorical_crossentropy',\n",
    "                 optimizer='adam',\n",
    "                 metrics=['accuracy'])\n",
    "\n",
    "# 打印模型结构\n",
    "cnnModel.summary()\n",
    "\n",
    "cnnResult = cnnModel.fit(x_train, y_train,\n",
    "                         nb_epoch=np_epochs, batch_size=64,\n",
    "                         verbose=2, validation_split=0.2)\n",
    "\n",
    "plot_model(cnnModel, \"data/cnnModel.png\")\n",
    "\n",
    "### cnn model graph\n",
    "\n",
    "x = range(len(cnnResult.epoch))\n",
    "plt.plot(x, cnnResult.history['acc'], label='train')\n",
    "plt.plot(x, cnnResult.history['val_acc'], label='validation')\n",
    "plt.title('Accuracy')\n",
    "plt.legend(loc='center left', bbox_to_anchor=(1, 0.5))\n",
    "plt.show()\n",
    "\n",
    "plt.plot(x, cnnResult.history['loss'], label='train')\n",
    "plt.plot(x, cnnResult.history['val_loss'], label='validation')\n",
    "plt.title('Loss')\n",
    "plt.legend(loc='center left', bbox_to_anchor=(1, 0.5))\n"
   ]
  },
  {
   "cell_type": "code",
   "execution_count": null,
   "metadata": {},
   "outputs": [],
   "source": []
  }
 ],
 "metadata": {
  "kernelspec": {
   "display_name": "Python 3",
   "language": "python",
   "name": "python3"
  },
  "language_info": {
   "codemirror_mode": {
    "name": "ipython",
    "version": 3
   },
   "file_extension": ".py",
   "mimetype": "text/x-python",
   "name": "python",
   "nbconvert_exporter": "python",
   "pygments_lexer": "ipython3",
   "version": "3.6.3"
  }
 },
 "nbformat": 4,
 "nbformat_minor": 1
}
