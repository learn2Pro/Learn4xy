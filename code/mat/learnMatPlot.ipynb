{
 "cells": [
  {
   "cell_type": "code",
   "execution_count": null,
   "metadata": {
    "collapsed": true
   },
   "outputs": [],
   "source": [
    "import matplotlib.pyplot as plt\n",
    "plt.plot([1,2,3,4])\n",
    "plt.ylabel('some 2 numbers')\n",
    "plt.show()\n"
   ]
  },
  {
   "cell_type": "code",
   "execution_count": null,
   "metadata": {
    "collapsed": true
   },
   "outputs": [],
   "source": [
    "\n",
    "# color\n",
    "# ‘b’\tblue\n",
    "# ‘g’\tgreen\n",
    "# ‘r’\tred\n",
    "# ‘c’\tcyan\n",
    "# ‘m’\tmagenta\n",
    "# ‘y’\tyellow\n",
    "# ‘k’\tblack\n",
    "# ‘w’\twhite\n",
    "# shape\n",
    "#'-'\tsolid line style\n",
    "# '--'\tdashed line style\n",
    "# '-.'\tdash-dot line style\n",
    "# ':'\tdotted line styles\n",
    "# '.'\tpoint marker\n",
    "# ','\tpixel marker\n",
    "# 'o'\tcircle marker\n",
    "# 'v'\ttriangle_down marker\n",
    "# '^'\ttriangle_up marker\n",
    "# '<'\ttriangle_left marker\n",
    "# '>'\ttriangle_right marker\n",
    "# '1'\ttri_down marker\n",
    "# '2'\ttri_up marker\n",
    "# '3'\ttri_left marker\n",
    "# '4'\ttri_right marker\n",
    "# 's'\tsquare marker\n",
    "# 'p'\tpentagon marker\n",
    "# '*'\tstar marker\n",
    "# 'h'\thexagon1 marker\n",
    "# 'H'\thexagon2 marker\n",
    "# '+'\tplus marker\n",
    "# 'x'\tx marker\n",
    "# 'D'\tdiamond marker\n",
    "# 'd'\tthin_diamond marker\n",
    "# '|'\tvline marker\n",
    "# '_'\thline marker\n",
    "plt.plot([1, 2, 3, 4], [1, 4, 9, 16],'bx')\n",
    "plt.axis([0,10,0,20])\n",
    "plt.show()\n"
   ]
  },
  {
   "cell_type": "code",
   "execution_count": null,
   "metadata": {
    "collapsed": true
   },
   "outputs": [],
   "source": [
    "\n",
    "import numpy as np\n",
    "\n",
    "t = np.arange(0.0,5.0,0.2)\n",
    "plt.plot(t,t*t,'r1',t,t*3,'bo')\n",
    "plt.show()\n"
   ]
  },
  {
   "cell_type": "code",
   "execution_count": null,
   "metadata": {
    "collapsed": true
   },
   "outputs": [],
   "source": [
    "plt.figure(1)\n",
    "plt.subplot(2,1,1)\n",
    "plt.plot(t,t*t,'r1')\n",
    "\n",
    "plt.subplot(2,1,2)\n",
    "plt.plot(t,t*2,'r1')\n",
    "plt.show()\n"
   ]
  }
 ],
 "metadata": {
  "kernelspec": {
   "display_name": "Python 2",
   "language": "python",
   "name": "python2"
  },
  "language_info": {
   "codemirror_mode": {
    "name": "ipython",
    "version": 2
   },
   "file_extension": ".py",
   "mimetype": "text/x-python",
   "name": "python",
   "nbconvert_exporter": "python",
   "pygments_lexer": "ipython2",
   "version": "2.7.6"
  }
 },
 "nbformat": 4,
 "nbformat_minor": 0
}
